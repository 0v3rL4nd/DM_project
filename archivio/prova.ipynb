{
 "cells": [
  {
   "cell_type": "code",
   "id": "initial_id",
   "metadata": {
    "collapsed": true,
    "ExecuteTime": {
     "end_time": "2025-04-11T08:29:57.205210Z",
     "start_time": "2025-04-11T08:29:56.941103Z"
    }
   },
   "source": [
    "# Python ≥3.5 is required\n",
    "import sys\n",
    "assert sys.version_info >= (3, 5)\n",
    "\n",
    "# Scikit-Learn ≥0.20 is required\n",
    "import sklearn\n",
    "assert sklearn.__version__ >= \"0.20\"\n",
    "\n",
    "# Common imports\n",
    "import numpy as np\n",
    "import pandas as pd\n",
    "import os\n",
    "from IPython.display import Image\n",
    "\n",
    "# Ignore warnings\n",
    "import warnings\n",
    "warnings.filterwarnings('ignore')\n",
    "\n",
    "# To make this notebook's output stable across runs\n",
    "np.random.seed(42)\n",
    "\n",
    "# Plotting setup\n",
    "%matplotlib inline\n",
    "import matplotlib as mpl\n",
    "import matplotlib.pyplot as plt\n",
    "import seaborn as sns\n",
    "sns.set(style=\"whitegrid\")\n",
    "mpl.rc('axes', labelsize=14)\n",
    "mpl.rc('xtick', labelsize=12)\n",
    "mpl.rc('ytick', labelsize=12)\n",
    "\n",
    "# Function to save figures\n",
    "def save_fig(fig_id, tight_layout=True, fig_extension=\"png\", resolution=300):\n",
    "    path = os.path.join(\"../images\", fig_id + \".\" + fig_extension)\n",
    "    print(\"Saving figure\", fig_id)\n",
    "    if tight_layout:\n",
    "        plt.tight_layout()\n",
    "    plt.savefig(path, format=fig_extension, dpi=resolution)"
   ],
   "outputs": [],
   "execution_count": 1
  },
  {
   "metadata": {
    "ExecuteTime": {
     "end_time": "2025-04-11T08:29:57.387484Z",
     "start_time": "2025-04-11T08:29:57.218962Z"
    }
   },
   "cell_type": "code",
   "source": [
    "# Load the dataset\n",
    "df = pd.read_csv(\"harry_potter_students_20000.csv\")\n",
    "df.head()"
   ],
   "id": "2b48b5c00fe4d919",
   "outputs": [
    {
     "data": {
      "text/plain": [
       "  Blood Status  Bravery  Intelligence  Loyalty  Ambition  Dark Arts Knowledge  \\\n",
       "0   Pure-blood      NaN           NaN      NaN       NaN                  7.0   \n",
       "1  Muggle-born      3.0           7.0      6.0       2.0                  5.0   \n",
       "2          NaN      NaN           NaN      NaN       NaN                  NaN   \n",
       "3  Muggle-born      2.0           9.0      1.0       2.0                  3.0   \n",
       "4          NaN      NaN           NaN      9.0       2.0                  NaN   \n",
       "\n",
       "   Quidditch Skills  Dueling Skills  Creativity      House  \n",
       "0               NaN             8.0         NaN        NaN  \n",
       "1               3.0             3.0        10.0  Ravenclaw  \n",
       "2               NaN             NaN         NaN        NaN  \n",
       "3               0.0             5.0         8.0  Ravenclaw  \n",
       "4               1.0             NaN         NaN        NaN  "
      ],
      "text/html": [
       "<div>\n",
       "<style scoped>\n",
       "    .dataframe tbody tr th:only-of-type {\n",
       "        vertical-align: middle;\n",
       "    }\n",
       "\n",
       "    .dataframe tbody tr th {\n",
       "        vertical-align: top;\n",
       "    }\n",
       "\n",
       "    .dataframe thead th {\n",
       "        text-align: right;\n",
       "    }\n",
       "</style>\n",
       "<table border=\"1\" class=\"dataframe\">\n",
       "  <thead>\n",
       "    <tr style=\"text-align: right;\">\n",
       "      <th></th>\n",
       "      <th>Blood Status</th>\n",
       "      <th>Bravery</th>\n",
       "      <th>Intelligence</th>\n",
       "      <th>Loyalty</th>\n",
       "      <th>Ambition</th>\n",
       "      <th>Dark Arts Knowledge</th>\n",
       "      <th>Quidditch Skills</th>\n",
       "      <th>Dueling Skills</th>\n",
       "      <th>Creativity</th>\n",
       "      <th>House</th>\n",
       "    </tr>\n",
       "  </thead>\n",
       "  <tbody>\n",
       "    <tr>\n",
       "      <th>0</th>\n",
       "      <td>Pure-blood</td>\n",
       "      <td>NaN</td>\n",
       "      <td>NaN</td>\n",
       "      <td>NaN</td>\n",
       "      <td>NaN</td>\n",
       "      <td>7.0</td>\n",
       "      <td>NaN</td>\n",
       "      <td>8.0</td>\n",
       "      <td>NaN</td>\n",
       "      <td>NaN</td>\n",
       "    </tr>\n",
       "    <tr>\n",
       "      <th>1</th>\n",
       "      <td>Muggle-born</td>\n",
       "      <td>3.0</td>\n",
       "      <td>7.0</td>\n",
       "      <td>6.0</td>\n",
       "      <td>2.0</td>\n",
       "      <td>5.0</td>\n",
       "      <td>3.0</td>\n",
       "      <td>3.0</td>\n",
       "      <td>10.0</td>\n",
       "      <td>Ravenclaw</td>\n",
       "    </tr>\n",
       "    <tr>\n",
       "      <th>2</th>\n",
       "      <td>NaN</td>\n",
       "      <td>NaN</td>\n",
       "      <td>NaN</td>\n",
       "      <td>NaN</td>\n",
       "      <td>NaN</td>\n",
       "      <td>NaN</td>\n",
       "      <td>NaN</td>\n",
       "      <td>NaN</td>\n",
       "      <td>NaN</td>\n",
       "      <td>NaN</td>\n",
       "    </tr>\n",
       "    <tr>\n",
       "      <th>3</th>\n",
       "      <td>Muggle-born</td>\n",
       "      <td>2.0</td>\n",
       "      <td>9.0</td>\n",
       "      <td>1.0</td>\n",
       "      <td>2.0</td>\n",
       "      <td>3.0</td>\n",
       "      <td>0.0</td>\n",
       "      <td>5.0</td>\n",
       "      <td>8.0</td>\n",
       "      <td>Ravenclaw</td>\n",
       "    </tr>\n",
       "    <tr>\n",
       "      <th>4</th>\n",
       "      <td>NaN</td>\n",
       "      <td>NaN</td>\n",
       "      <td>NaN</td>\n",
       "      <td>9.0</td>\n",
       "      <td>2.0</td>\n",
       "      <td>NaN</td>\n",
       "      <td>1.0</td>\n",
       "      <td>NaN</td>\n",
       "      <td>NaN</td>\n",
       "      <td>NaN</td>\n",
       "    </tr>\n",
       "  </tbody>\n",
       "</table>\n",
       "</div>"
      ]
     },
     "execution_count": 2,
     "metadata": {},
     "output_type": "execute_result"
    }
   ],
   "execution_count": 2
  },
  {
   "metadata": {
    "ExecuteTime": {
     "end_time": "2025-04-11T08:29:59.635532Z",
     "start_time": "2025-04-11T08:29:58.433747Z"
    }
   },
   "cell_type": "code",
   "source": [
    "# Basic info\n",
    "print(df.info())\n",
    "\n",
    "# Check for missing values\n",
    "print(\"\\nMissing values per column:\")\n",
    "print(df.isnull().sum())\n",
    "\n",
    "# House distribution\n",
    "plt.figure(figsize=(10,6))\n",
    "sns.countplot(x='House', data=df)\n",
    "plt.title(\"Distribution of Students Across Houses\")\n",
    "save_fig(\"house_distribution\")\n",
    "plt.show()"
   ],
   "id": "2a459bb02759b374",
   "outputs": [
    {
     "name": "stdout",
     "output_type": "stream",
     "text": [
      "<class 'pandas.core.frame.DataFrame'>\n",
      "RangeIndex: 20000 entries, 0 to 19999\n",
      "Data columns (total 10 columns):\n",
      " #   Column               Non-Null Count  Dtype  \n",
      "---  ------               --------------  -----  \n",
      " 0   Blood Status         15059 non-null  object \n",
      " 1   Bravery              15043 non-null  float64\n",
      " 2   Intelligence         15019 non-null  float64\n",
      " 3   Loyalty              15088 non-null  float64\n",
      " 4   Ambition             15005 non-null  float64\n",
      " 5   Dark Arts Knowledge  14964 non-null  float64\n",
      " 6   Quidditch Skills     15089 non-null  float64\n",
      " 7   Dueling Skills       15038 non-null  float64\n",
      " 8   Creativity           14995 non-null  float64\n",
      " 9   House                15049 non-null  object \n",
      "dtypes: float64(8), object(2)\n",
      "memory usage: 1.5+ MB\n",
      "None\n",
      "\n",
      "Missing values per column:\n",
      "Blood Status           4941\n",
      "Bravery                4957\n",
      "Intelligence           4981\n",
      "Loyalty                4912\n",
      "Ambition               4995\n",
      "Dark Arts Knowledge    5036\n",
      "Quidditch Skills       4911\n",
      "Dueling Skills         4962\n",
      "Creativity             5005\n",
      "House                  4951\n",
      "dtype: int64\n",
      "Saving figure house_distribution\n"
     ]
    },
    {
     "data": {
      "text/plain": [
       "<Figure size 1000x600 with 1 Axes>"
      ],
      "image/png": "[encoded data removed]"
     },
     "metadata": {},
     "output_type": "display_data"
    }
   ],
   "execution_count": 3
  },
  {
   "metadata": {
    "ExecuteTime": {
     "end_time": "2025-04-11T08:30:00.492675Z",
     "start_time": "2025-04-11T08:29:59.728470Z"
    }
   },
   "cell_type": "code",
   "source": [
    "from sklearn.impute import SimpleImputer\n",
    "from sklearn.preprocessing import StandardScaler, OneHotEncoder\n",
    "from sklearn.compose import ColumnTransformer\n",
    "from sklearn.pipeline import Pipeline\n",
    "\n",
    "# Separate features and target\n",
    "X = df.drop('House', axis=1)\n",
    "y = df['House']\n",
    "\n",
    "# Identify numerical and categorical columns\n",
    "numerical_cols = X.select_dtypes(include=['float64']).columns\n",
    "categorical_cols = ['Blood Status']\n",
    "\n",
    "# Preprocessing pipelines\n",
    "numerical_transformer = Pipeline(steps=[\n",
    "    ('imputer', SimpleImputer(strategy='median')),\n",
    "    ('scaler', StandardScaler())])\n",
    "\n",
    "categorical_transformer = Pipeline(steps=[\n",
    "    ('imputer', SimpleImputer(strategy='most_frequent')),\n",
    "    ('onehot', OneHotEncoder(handle_unknown='ignore'))])\n",
    "\n",
    "# Bundle preprocessing\n",
    "preprocessor = ColumnTransformer(\n",
    "    transformers=[\n",
    "        ('num', numerical_transformer, numerical_cols),\n",
    "        ('cat', categorical_transformer, categorical_cols)])\n",
    "\n",
    "# Split data into training and test sets\n",
    "from sklearn.model_selection import train_test_split\n",
    "X_train, X_test, y_train, y_test = train_test_split(X, y, test_size=0.2, random_state=42)"
   ],
   "id": "ef9945ed598120e0",
   "outputs": [],
   "execution_count": 4
  },
  {
   "metadata": {
    "ExecuteTime": {
     "end_time": "2025-04-11T08:30:04.318323Z",
     "start_time": "2025-04-11T08:30:00.574313Z"
    }
   },
   "cell_type": "code",
   "source": [
    "# Compute correlations with houses (after encoding)\n",
    "from sklearn.preprocessing import LabelEncoder\n",
    "\n",
    "# Encode houses numerically for correlation analysis\n",
    "le = LabelEncoder()\n",
    "y_encoded = le.fit_transform(y)\n",
    "\n",
    "# Create a temporary dataframe with encoded houses\n",
    "temp_df = X.copy()\n",
    "temp_df['House'] = y_encoded\n",
    "\n",
    "# Handle missing values temporarily for correlation analysis\n",
    "temp_df = temp_df.fillna(temp_df.median())\n",
    "\n",
    "# Compute correlations\n",
    "correlations = temp_df.corr()['House'].sort_values(ascending=False)\n",
    "print(\"\\nFeature correlations with House:\")\n",
    "print(correlations)\n",
    "\n",
    "# Plot top correlated features\n",
    "plt.figure(figsize=(10,6))\n",
    "correlations.drop('House').plot.bar()\n",
    "plt.title(\"Feature Correlations with House\")\n",
    "save_fig(\"feature_correlations\")\n",
    "plt.show()"
   ],
   "id": "31d5c281b41e0dbe",
   "outputs": [
    {
     "ename": "TypeError",
     "evalue": "Cannot convert [['Pure-blood' 'Muggle-born' nan ... 'Half-blood' 'Pure-blood'\n  'Half-blood']] to numeric",
     "output_type": "error",
     "traceback": [
      "\u001B[31m---------------------------------------------------------------------------\u001B[39m",
      "\u001B[31mTypeError\u001B[39m                                 Traceback (most recent call last)",
      "\u001B[36mCell\u001B[39m\u001B[36m \u001B[39m\u001B[32mIn[5]\u001B[39m\u001B[32m, line 13\u001B[39m\n\u001B[32m     10\u001B[39m temp_df[\u001B[33m'\u001B[39m\u001B[33mHouse\u001B[39m\u001B[33m'\u001B[39m] = y_encoded\n\u001B[32m     12\u001B[39m \u001B[38;5;66;03m# Handle missing values temporarily for correlation analysis\u001B[39;00m\n\u001B[32m---> \u001B[39m\u001B[32m13\u001B[39m temp_df = temp_df.fillna(\u001B[43mtemp_df\u001B[49m\u001B[43m.\u001B[49m\u001B[43mmedian\u001B[49m\u001B[43m(\u001B[49m\u001B[43m)\u001B[49m)\n\u001B[32m     15\u001B[39m \u001B[38;5;66;03m# Compute correlations\u001B[39;00m\n\u001B[32m     16\u001B[39m correlations = temp_df.corr()[\u001B[33m'\u001B[39m\u001B[33mHouse\u001B[39m\u001B[33m'\u001B[39m].sort_values(ascending=\u001B[38;5;28;01mFalse\u001B[39;00m)\n",
      "\u001B[36mFile \u001B[39m\u001B[32m~\\miniconda3\\Lib\\site-packages\\pandas\\core\\frame.py:11706\u001B[39m, in \u001B[36mDataFrame.median\u001B[39m\u001B[34m(self, axis, skipna, numeric_only, **kwargs)\u001B[39m\n\u001B[32m  11698\u001B[39m \u001B[38;5;129m@doc\u001B[39m(make_doc(\u001B[33m\"\u001B[39m\u001B[33mmedian\u001B[39m\u001B[33m\"\u001B[39m, ndim=\u001B[32m2\u001B[39m))\n\u001B[32m  11699\u001B[39m \u001B[38;5;28;01mdef\u001B[39;00m\u001B[38;5;250m \u001B[39m\u001B[34mmedian\u001B[39m(\n\u001B[32m  11700\u001B[39m     \u001B[38;5;28mself\u001B[39m,\n\u001B[32m   (...)\u001B[39m\u001B[32m  11704\u001B[39m     **kwargs,\n\u001B[32m  11705\u001B[39m ):\n\u001B[32m> \u001B[39m\u001B[32m11706\u001B[39m     result = \u001B[38;5;28;43msuper\u001B[39;49m\u001B[43m(\u001B[49m\u001B[43m)\u001B[49m\u001B[43m.\u001B[49m\u001B[43mmedian\u001B[49m\u001B[43m(\u001B[49m\u001B[43maxis\u001B[49m\u001B[43m,\u001B[49m\u001B[43m \u001B[49m\u001B[43mskipna\u001B[49m\u001B[43m,\u001B[49m\u001B[43m \u001B[49m\u001B[43mnumeric_only\u001B[49m\u001B[43m,\u001B[49m\u001B[43m \u001B[49m\u001B[43m*\u001B[49m\u001B[43m*\u001B[49m\u001B[43mkwargs\u001B[49m\u001B[43m)\u001B[49m\n\u001B[32m  11707\u001B[39m     \u001B[38;5;28;01mif\u001B[39;00m \u001B[38;5;28misinstance\u001B[39m(result, Series):\n\u001B[32m  11708\u001B[39m         result = result.__finalize__(\u001B[38;5;28mself\u001B[39m, method=\u001B[33m\"\u001B[39m\u001B[33mmedian\u001B[39m\u001B[33m\"\u001B[39m)\n",
      "\u001B[36mFile \u001B[39m\u001B[32m~\\miniconda3\\Lib\\site-packages\\pandas\\core\\generic.py:12431\u001B[39m, in \u001B[36mNDFrame.median\u001B[39m\u001B[34m(self, axis, skipna, numeric_only, **kwargs)\u001B[39m\n\u001B[32m  12424\u001B[39m \u001B[38;5;28;01mdef\u001B[39;00m\u001B[38;5;250m \u001B[39m\u001B[34mmedian\u001B[39m(\n\u001B[32m  12425\u001B[39m     \u001B[38;5;28mself\u001B[39m,\n\u001B[32m  12426\u001B[39m     axis: Axis | \u001B[38;5;28;01mNone\u001B[39;00m = \u001B[32m0\u001B[39m,\n\u001B[32m   (...)\u001B[39m\u001B[32m  12429\u001B[39m     **kwargs,\n\u001B[32m  12430\u001B[39m ) -> Series | \u001B[38;5;28mfloat\u001B[39m:\n\u001B[32m> \u001B[39m\u001B[32m12431\u001B[39m     \u001B[38;5;28;01mreturn\u001B[39;00m \u001B[38;5;28;43mself\u001B[39;49m\u001B[43m.\u001B[49m\u001B[43m_stat_function\u001B[49m\u001B[43m(\u001B[49m\n\u001B[32m  12432\u001B[39m \u001B[43m        \u001B[49m\u001B[33;43m\"\u001B[39;49m\u001B[33;43mmedian\u001B[39;49m\u001B[33;43m\"\u001B[39;49m\u001B[43m,\u001B[49m\u001B[43m \u001B[49m\u001B[43mnanops\u001B[49m\u001B[43m.\u001B[49m\u001B[43mnanmedian\u001B[49m\u001B[43m,\u001B[49m\u001B[43m \u001B[49m\u001B[43maxis\u001B[49m\u001B[43m,\u001B[49m\u001B[43m \u001B[49m\u001B[43mskipna\u001B[49m\u001B[43m,\u001B[49m\u001B[43m \u001B[49m\u001B[43mnumeric_only\u001B[49m\u001B[43m,\u001B[49m\u001B[43m \u001B[49m\u001B[43m*\u001B[49m\u001B[43m*\u001B[49m\u001B[43mkwargs\u001B[49m\n\u001B[32m  12433\u001B[39m \u001B[43m    \u001B[49m\u001B[43m)\u001B[49m\n",
      "\u001B[36mFile \u001B[39m\u001B[32m~\\miniconda3\\Lib\\site-packages\\pandas\\core\\generic.py:12377\u001B[39m, in \u001B[36mNDFrame._stat_function\u001B[39m\u001B[34m(self, name, func, axis, skipna, numeric_only, **kwargs)\u001B[39m\n\u001B[32m  12373\u001B[39m nv.validate_func(name, (), kwargs)\n\u001B[32m  12375\u001B[39m validate_bool_kwarg(skipna, \u001B[33m\"\u001B[39m\u001B[33mskipna\u001B[39m\u001B[33m\"\u001B[39m, none_allowed=\u001B[38;5;28;01mFalse\u001B[39;00m)\n\u001B[32m> \u001B[39m\u001B[32m12377\u001B[39m \u001B[38;5;28;01mreturn\u001B[39;00m \u001B[38;5;28;43mself\u001B[39;49m\u001B[43m.\u001B[49m\u001B[43m_reduce\u001B[49m\u001B[43m(\u001B[49m\n\u001B[32m  12378\u001B[39m \u001B[43m    \u001B[49m\u001B[43mfunc\u001B[49m\u001B[43m,\u001B[49m\u001B[43m \u001B[49m\u001B[43mname\u001B[49m\u001B[43m=\u001B[49m\u001B[43mname\u001B[49m\u001B[43m,\u001B[49m\u001B[43m \u001B[49m\u001B[43maxis\u001B[49m\u001B[43m=\u001B[49m\u001B[43maxis\u001B[49m\u001B[43m,\u001B[49m\u001B[43m \u001B[49m\u001B[43mskipna\u001B[49m\u001B[43m=\u001B[49m\u001B[43mskipna\u001B[49m\u001B[43m,\u001B[49m\u001B[43m \u001B[49m\u001B[43mnumeric_only\u001B[49m\u001B[43m=\u001B[49m\u001B[43mnumeric_only\u001B[49m\n\u001B[32m  12379\u001B[39m \u001B[43m\u001B[49m\u001B[43m)\u001B[49m\n",
      "\u001B[36mFile \u001B[39m\u001B[32m~\\miniconda3\\Lib\\site-packages\\pandas\\core\\frame.py:11562\u001B[39m, in \u001B[36mDataFrame._reduce\u001B[39m\u001B[34m(self, op, name, axis, skipna, numeric_only, filter_type, **kwds)\u001B[39m\n\u001B[32m  11558\u001B[39m     df = df.T\n\u001B[32m  11560\u001B[39m \u001B[38;5;66;03m# After possibly _get_data and transposing, we are now in the\u001B[39;00m\n\u001B[32m  11561\u001B[39m \u001B[38;5;66;03m#  simple case where we can use BlockManager.reduce\u001B[39;00m\n\u001B[32m> \u001B[39m\u001B[32m11562\u001B[39m res = \u001B[43mdf\u001B[49m\u001B[43m.\u001B[49m\u001B[43m_mgr\u001B[49m\u001B[43m.\u001B[49m\u001B[43mreduce\u001B[49m\u001B[43m(\u001B[49m\u001B[43mblk_func\u001B[49m\u001B[43m)\u001B[49m\n\u001B[32m  11563\u001B[39m out = df._constructor_from_mgr(res, axes=res.axes).iloc[\u001B[32m0\u001B[39m]\n\u001B[32m  11564\u001B[39m \u001B[38;5;28;01mif\u001B[39;00m out_dtype \u001B[38;5;129;01mis\u001B[39;00m \u001B[38;5;129;01mnot\u001B[39;00m \u001B[38;5;28;01mNone\u001B[39;00m \u001B[38;5;129;01mand\u001B[39;00m out.dtype != \u001B[33m\"\u001B[39m\u001B[33mboolean\u001B[39m\u001B[33m\"\u001B[39m:\n",
      "\u001B[36mFile \u001B[39m\u001B[32m~\\miniconda3\\Lib\\site-packages\\pandas\\core\\internals\\managers.py:1500\u001B[39m, in \u001B[36mBlockManager.reduce\u001B[39m\u001B[34m(self, func)\u001B[39m\n\u001B[32m   1498\u001B[39m res_blocks: \u001B[38;5;28mlist\u001B[39m[Block] = []\n\u001B[32m   1499\u001B[39m \u001B[38;5;28;01mfor\u001B[39;00m blk \u001B[38;5;129;01min\u001B[39;00m \u001B[38;5;28mself\u001B[39m.blocks:\n\u001B[32m-> \u001B[39m\u001B[32m1500\u001B[39m     nbs = \u001B[43mblk\u001B[49m\u001B[43m.\u001B[49m\u001B[43mreduce\u001B[49m\u001B[43m(\u001B[49m\u001B[43mfunc\u001B[49m\u001B[43m)\u001B[49m\n\u001B[32m   1501\u001B[39m     res_blocks.extend(nbs)\n\u001B[32m   1503\u001B[39m index = Index([\u001B[38;5;28;01mNone\u001B[39;00m])  \u001B[38;5;66;03m# placeholder\u001B[39;00m\n",
      "\u001B[36mFile \u001B[39m\u001B[32m~\\miniconda3\\Lib\\site-packages\\pandas\\core\\internals\\blocks.py:404\u001B[39m, in \u001B[36mBlock.reduce\u001B[39m\u001B[34m(self, func)\u001B[39m\n\u001B[32m    398\u001B[39m \u001B[38;5;129m@final\u001B[39m\n\u001B[32m    399\u001B[39m \u001B[38;5;28;01mdef\u001B[39;00m\u001B[38;5;250m \u001B[39m\u001B[34mreduce\u001B[39m(\u001B[38;5;28mself\u001B[39m, func) -> \u001B[38;5;28mlist\u001B[39m[Block]:\n\u001B[32m    400\u001B[39m     \u001B[38;5;66;03m# We will apply the function and reshape the result into a single-row\u001B[39;00m\n\u001B[32m    401\u001B[39m     \u001B[38;5;66;03m#  Block with the same mgr_locs; squeezing will be done at a higher level\u001B[39;00m\n\u001B[32m    402\u001B[39m     \u001B[38;5;28;01massert\u001B[39;00m \u001B[38;5;28mself\u001B[39m.ndim == \u001B[32m2\u001B[39m\n\u001B[32m--> \u001B[39m\u001B[32m404\u001B[39m     result = \u001B[43mfunc\u001B[49m\u001B[43m(\u001B[49m\u001B[38;5;28;43mself\u001B[39;49m\u001B[43m.\u001B[49m\u001B[43mvalues\u001B[49m\u001B[43m)\u001B[49m\n\u001B[32m    406\u001B[39m     \u001B[38;5;28;01mif\u001B[39;00m \u001B[38;5;28mself\u001B[39m.values.ndim == \u001B[32m1\u001B[39m:\n\u001B[32m    407\u001B[39m         res_values = result\n",
      "\u001B[36mFile \u001B[39m\u001B[32m~\\miniconda3\\Lib\\site-packages\\pandas\\core\\frame.py:11481\u001B[39m, in \u001B[36mDataFrame._reduce.<locals>.blk_func\u001B[39m\u001B[34m(values, axis)\u001B[39m\n\u001B[32m  11479\u001B[39m         \u001B[38;5;28;01mreturn\u001B[39;00m np.array([result])\n\u001B[32m  11480\u001B[39m \u001B[38;5;28;01melse\u001B[39;00m:\n\u001B[32m> \u001B[39m\u001B[32m11481\u001B[39m     \u001B[38;5;28;01mreturn\u001B[39;00m \u001B[43mop\u001B[49m\u001B[43m(\u001B[49m\u001B[43mvalues\u001B[49m\u001B[43m,\u001B[49m\u001B[43m \u001B[49m\u001B[43maxis\u001B[49m\u001B[43m=\u001B[49m\u001B[43maxis\u001B[49m\u001B[43m,\u001B[49m\u001B[43m \u001B[49m\u001B[43mskipna\u001B[49m\u001B[43m=\u001B[49m\u001B[43mskipna\u001B[49m\u001B[43m,\u001B[49m\u001B[43m \u001B[49m\u001B[43m*\u001B[49m\u001B[43m*\u001B[49m\u001B[43mkwds\u001B[49m\u001B[43m)\u001B[49m\n",
      "\u001B[36mFile \u001B[39m\u001B[32m~\\miniconda3\\Lib\\site-packages\\pandas\\core\\nanops.py:147\u001B[39m, in \u001B[36mbottleneck_switch.__call__.<locals>.f\u001B[39m\u001B[34m(values, axis, skipna, **kwds)\u001B[39m\n\u001B[32m    145\u001B[39m         result = alt(values, axis=axis, skipna=skipna, **kwds)\n\u001B[32m    146\u001B[39m \u001B[38;5;28;01melse\u001B[39;00m:\n\u001B[32m--> \u001B[39m\u001B[32m147\u001B[39m     result = \u001B[43malt\u001B[49m\u001B[43m(\u001B[49m\u001B[43mvalues\u001B[49m\u001B[43m,\u001B[49m\u001B[43m \u001B[49m\u001B[43maxis\u001B[49m\u001B[43m=\u001B[49m\u001B[43maxis\u001B[49m\u001B[43m,\u001B[49m\u001B[43m \u001B[49m\u001B[43mskipna\u001B[49m\u001B[43m=\u001B[49m\u001B[43mskipna\u001B[49m\u001B[43m,\u001B[49m\u001B[43m \u001B[49m\u001B[43m*\u001B[49m\u001B[43m*\u001B[49m\u001B[43mkwds\u001B[49m\u001B[43m)\u001B[49m\n\u001B[32m    149\u001B[39m \u001B[38;5;28;01mreturn\u001B[39;00m result\n",
      "\u001B[36mFile \u001B[39m\u001B[32m~\\miniconda3\\Lib\\site-packages\\pandas\\core\\nanops.py:787\u001B[39m, in \u001B[36mnanmedian\u001B[39m\u001B[34m(values, axis, skipna, mask)\u001B[39m\n\u001B[32m    785\u001B[39m     inferred = lib.infer_dtype(values)\n\u001B[32m    786\u001B[39m     \u001B[38;5;28;01mif\u001B[39;00m inferred \u001B[38;5;129;01min\u001B[39;00m [\u001B[33m\"\u001B[39m\u001B[33mstring\u001B[39m\u001B[33m\"\u001B[39m, \u001B[33m\"\u001B[39m\u001B[33mmixed\u001B[39m\u001B[33m\"\u001B[39m]:\n\u001B[32m--> \u001B[39m\u001B[32m787\u001B[39m         \u001B[38;5;28;01mraise\u001B[39;00m \u001B[38;5;167;01mTypeError\u001B[39;00m(\u001B[33mf\u001B[39m\u001B[33m\"\u001B[39m\u001B[33mCannot convert \u001B[39m\u001B[38;5;132;01m{\u001B[39;00mvalues\u001B[38;5;132;01m}\u001B[39;00m\u001B[33m to numeric\u001B[39m\u001B[33m\"\u001B[39m)\n\u001B[32m    788\u001B[39m \u001B[38;5;28;01mtry\u001B[39;00m:\n\u001B[32m    789\u001B[39m     values = values.astype(\u001B[33m\"\u001B[39m\u001B[33mf8\u001B[39m\u001B[33m\"\u001B[39m)\n",
      "\u001B[31mTypeError\u001B[39m: Cannot convert [['Pure-blood' 'Muggle-born' nan ... 'Half-blood' 'Pure-blood'\n  'Half-blood']] to numeric"
     ]
    }
   ],
   "execution_count": 5
  },
  {
   "metadata": {
    "ExecuteTime": {
     "end_time": "2025-04-11T08:31:32.782363Z",
     "start_time": "2025-04-11T08:31:31.124345Z"
    }
   },
   "cell_type": "code",
   "source": [
    "from sklearn.ensemble import RandomForestClassifier\n",
    "from sklearn.svm import SVC\n",
    "from sklearn.linear_model import LogisticRegression\n",
    "from sklearn.neighbors import KNeighborsClassifier\n",
    "from sklearn.model_selection import cross_val_score\n",
    "\n",
    "# Define models\n",
    "models = [\n",
    "    ('Random Forest', RandomForestClassifier(random_state=42)),\n",
    "    ('SVM', SVC(random_state=42)),\n",
    "    ('Logistic Regression', LogisticRegression(max_iter=1000, random_state=42)),\n",
    "    ('KNN', KNeighborsClassifier())\n",
    "]\n",
    "\n",
    "# Evaluate each model using cross-validation\n",
    "results = []\n",
    "for name, model in models:\n",
    "    # Create full pipeline\n",
    "    clf = Pipeline(steps=[('preprocessor', preprocessor),\n",
    "                          ('classifier', model)])\n",
    "\n",
    "    # Get cross-validation scores\n",
    "    cv_scores = cross_val_score(clf, X_train, y_train, cv=5)\n",
    "    results.append((name, cv_scores.mean(), cv_scores.std()))\n",
    "\n",
    "    print(f\"{name}: {cv_scores.mean():.3f} accuracy (±{cv_scores.std():.3f})\")\n",
    "\n",
    "# Convert results to dataframe\n",
    "results_df = pd.DataFrame(results, columns=['Model', 'Mean Accuracy', 'Std'])\n",
    "results_df = results_df.sort_values('Mean Accuracy', ascending=False)"
   ],
   "id": "7f9d1729c83e452f",
   "outputs": [
    {
     "ename": "TypeError",
     "evalue": "'<' not supported between instances of 'float' and 'str'",
     "output_type": "error",
     "traceback": [
      "\u001B[31m---------------------------------------------------------------------------\u001B[39m",
      "\u001B[31mTypeError\u001B[39m                                 Traceback (most recent call last)",
      "\u001B[36mCell\u001B[39m\u001B[36m \u001B[39m\u001B[32mIn[6]\u001B[39m\u001B[32m, line 23\u001B[39m\n\u001B[32m     19\u001B[39m clf = Pipeline(steps=[(\u001B[33m'\u001B[39m\u001B[33mpreprocessor\u001B[39m\u001B[33m'\u001B[39m, preprocessor),\n\u001B[32m     20\u001B[39m                       (\u001B[33m'\u001B[39m\u001B[33mclassifier\u001B[39m\u001B[33m'\u001B[39m, model)])\n\u001B[32m     22\u001B[39m \u001B[38;5;66;03m# Get cross-validation scores\u001B[39;00m\n\u001B[32m---> \u001B[39m\u001B[32m23\u001B[39m cv_scores = \u001B[43mcross_val_score\u001B[49m\u001B[43m(\u001B[49m\u001B[43mclf\u001B[49m\u001B[43m,\u001B[49m\u001B[43m \u001B[49m\u001B[43mX_train\u001B[49m\u001B[43m,\u001B[49m\u001B[43m \u001B[49m\u001B[43my_train\u001B[49m\u001B[43m,\u001B[49m\u001B[43m \u001B[49m\u001B[43mcv\u001B[49m\u001B[43m=\u001B[49m\u001B[32;43m5\u001B[39;49m\u001B[43m)\u001B[49m\n\u001B[32m     24\u001B[39m results.append((name, cv_scores.mean(), cv_scores.std()))\n\u001B[32m     26\u001B[39m \u001B[38;5;28mprint\u001B[39m(\u001B[33mf\u001B[39m\u001B[33m\"\u001B[39m\u001B[38;5;132;01m{\u001B[39;00mname\u001B[38;5;132;01m}\u001B[39;00m\u001B[33m: \u001B[39m\u001B[38;5;132;01m{\u001B[39;00mcv_scores.mean()\u001B[38;5;132;01m:\u001B[39;00m\u001B[33m.3f\u001B[39m\u001B[38;5;132;01m}\u001B[39;00m\u001B[33m accuracy (±\u001B[39m\u001B[38;5;132;01m{\u001B[39;00mcv_scores.std()\u001B[38;5;132;01m:\u001B[39;00m\u001B[33m.3f\u001B[39m\u001B[38;5;132;01m}\u001B[39;00m\u001B[33m)\u001B[39m\u001B[33m\"\u001B[39m)\n",
      "\u001B[36mFile \u001B[39m\u001B[32m~\\miniconda3\\Lib\\site-packages\\sklearn\\utils\\_param_validation.py:216\u001B[39m, in \u001B[36mvalidate_params.<locals>.decorator.<locals>.wrapper\u001B[39m\u001B[34m(*args, **kwargs)\u001B[39m\n\u001B[32m    210\u001B[39m \u001B[38;5;28;01mtry\u001B[39;00m:\n\u001B[32m    211\u001B[39m     \u001B[38;5;28;01mwith\u001B[39;00m config_context(\n\u001B[32m    212\u001B[39m         skip_parameter_validation=(\n\u001B[32m    213\u001B[39m             prefer_skip_nested_validation \u001B[38;5;129;01mor\u001B[39;00m global_skip_validation\n\u001B[32m    214\u001B[39m         )\n\u001B[32m    215\u001B[39m     ):\n\u001B[32m--> \u001B[39m\u001B[32m216\u001B[39m         \u001B[38;5;28;01mreturn\u001B[39;00m \u001B[43mfunc\u001B[49m\u001B[43m(\u001B[49m\u001B[43m*\u001B[49m\u001B[43margs\u001B[49m\u001B[43m,\u001B[49m\u001B[43m \u001B[49m\u001B[43m*\u001B[49m\u001B[43m*\u001B[49m\u001B[43mkwargs\u001B[49m\u001B[43m)\u001B[49m\n\u001B[32m    217\u001B[39m \u001B[38;5;28;01mexcept\u001B[39;00m InvalidParameterError \u001B[38;5;28;01mas\u001B[39;00m e:\n\u001B[32m    218\u001B[39m     \u001B[38;5;66;03m# When the function is just a wrapper around an estimator, we allow\u001B[39;00m\n\u001B[32m    219\u001B[39m     \u001B[38;5;66;03m# the function to delegate validation to the estimator, but we replace\u001B[39;00m\n\u001B[32m    220\u001B[39m     \u001B[38;5;66;03m# the name of the estimator by the name of the function in the error\u001B[39;00m\n\u001B[32m    221\u001B[39m     \u001B[38;5;66;03m# message to avoid confusion.\u001B[39;00m\n\u001B[32m    222\u001B[39m     msg = re.sub(\n\u001B[32m    223\u001B[39m         \u001B[33mr\u001B[39m\u001B[33m\"\u001B[39m\u001B[33mparameter of \u001B[39m\u001B[33m\\\u001B[39m\u001B[33mw+ must be\u001B[39m\u001B[33m\"\u001B[39m,\n\u001B[32m    224\u001B[39m         \u001B[33mf\u001B[39m\u001B[33m\"\u001B[39m\u001B[33mparameter of \u001B[39m\u001B[38;5;132;01m{\u001B[39;00mfunc.\u001B[34m__qualname__\u001B[39m\u001B[38;5;132;01m}\u001B[39;00m\u001B[33m must be\u001B[39m\u001B[33m\"\u001B[39m,\n\u001B[32m    225\u001B[39m         \u001B[38;5;28mstr\u001B[39m(e),\n\u001B[32m    226\u001B[39m     )\n",
      "\u001B[36mFile \u001B[39m\u001B[32m~\\miniconda3\\Lib\\site-packages\\sklearn\\model_selection\\_validation.py:684\u001B[39m, in \u001B[36mcross_val_score\u001B[39m\u001B[34m(estimator, X, y, groups, scoring, cv, n_jobs, verbose, params, pre_dispatch, error_score)\u001B[39m\n\u001B[32m    681\u001B[39m \u001B[38;5;66;03m# To ensure multimetric format is not supported\u001B[39;00m\n\u001B[32m    682\u001B[39m scorer = check_scoring(estimator, scoring=scoring)\n\u001B[32m--> \u001B[39m\u001B[32m684\u001B[39m cv_results = \u001B[43mcross_validate\u001B[49m\u001B[43m(\u001B[49m\n\u001B[32m    685\u001B[39m \u001B[43m    \u001B[49m\u001B[43mestimator\u001B[49m\u001B[43m=\u001B[49m\u001B[43mestimator\u001B[49m\u001B[43m,\u001B[49m\n\u001B[32m    686\u001B[39m \u001B[43m    \u001B[49m\u001B[43mX\u001B[49m\u001B[43m=\u001B[49m\u001B[43mX\u001B[49m\u001B[43m,\u001B[49m\n\u001B[32m    687\u001B[39m \u001B[43m    \u001B[49m\u001B[43my\u001B[49m\u001B[43m=\u001B[49m\u001B[43my\u001B[49m\u001B[43m,\u001B[49m\n\u001B[32m    688\u001B[39m \u001B[43m    \u001B[49m\u001B[43mgroups\u001B[49m\u001B[43m=\u001B[49m\u001B[43mgroups\u001B[49m\u001B[43m,\u001B[49m\n\u001B[32m    689\u001B[39m \u001B[43m    \u001B[49m\u001B[43mscoring\u001B[49m\u001B[43m=\u001B[49m\u001B[43m{\u001B[49m\u001B[33;43m\"\u001B[39;49m\u001B[33;43mscore\u001B[39;49m\u001B[33;43m\"\u001B[39;49m\u001B[43m:\u001B[49m\u001B[43m \u001B[49m\u001B[43mscorer\u001B[49m\u001B[43m}\u001B[49m\u001B[43m,\u001B[49m\n\u001B[32m    690\u001B[39m \u001B[43m    \u001B[49m\u001B[43mcv\u001B[49m\u001B[43m=\u001B[49m\u001B[43mcv\u001B[49m\u001B[43m,\u001B[49m\n\u001B[32m    691\u001B[39m \u001B[43m    \u001B[49m\u001B[43mn_jobs\u001B[49m\u001B[43m=\u001B[49m\u001B[43mn_jobs\u001B[49m\u001B[43m,\u001B[49m\n\u001B[32m    692\u001B[39m \u001B[43m    \u001B[49m\u001B[43mverbose\u001B[49m\u001B[43m=\u001B[49m\u001B[43mverbose\u001B[49m\u001B[43m,\u001B[49m\n\u001B[32m    693\u001B[39m \u001B[43m    \u001B[49m\u001B[43mparams\u001B[49m\u001B[43m=\u001B[49m\u001B[43mparams\u001B[49m\u001B[43m,\u001B[49m\n\u001B[32m    694\u001B[39m \u001B[43m    \u001B[49m\u001B[43mpre_dispatch\u001B[49m\u001B[43m=\u001B[49m\u001B[43mpre_dispatch\u001B[49m\u001B[43m,\u001B[49m\n\u001B[32m    695\u001B[39m \u001B[43m    \u001B[49m\u001B[43merror_score\u001B[49m\u001B[43m=\u001B[49m\u001B[43merror_score\u001B[49m\u001B[43m,\u001B[49m\n\u001B[32m    696\u001B[39m \u001B[43m\u001B[49m\u001B[43m)\u001B[49m\n\u001B[32m    697\u001B[39m \u001B[38;5;28;01mreturn\u001B[39;00m cv_results[\u001B[33m\"\u001B[39m\u001B[33mtest_score\u001B[39m\u001B[33m\"\u001B[39m]\n",
      "\u001B[36mFile \u001B[39m\u001B[32m~\\miniconda3\\Lib\\site-packages\\sklearn\\utils\\_param_validation.py:216\u001B[39m, in \u001B[36mvalidate_params.<locals>.decorator.<locals>.wrapper\u001B[39m\u001B[34m(*args, **kwargs)\u001B[39m\n\u001B[32m    210\u001B[39m \u001B[38;5;28;01mtry\u001B[39;00m:\n\u001B[32m    211\u001B[39m     \u001B[38;5;28;01mwith\u001B[39;00m config_context(\n\u001B[32m    212\u001B[39m         skip_parameter_validation=(\n\u001B[32m    213\u001B[39m             prefer_skip_nested_validation \u001B[38;5;129;01mor\u001B[39;00m global_skip_validation\n\u001B[32m    214\u001B[39m         )\n\u001B[32m    215\u001B[39m     ):\n\u001B[32m--> \u001B[39m\u001B[32m216\u001B[39m         \u001B[38;5;28;01mreturn\u001B[39;00m \u001B[43mfunc\u001B[49m\u001B[43m(\u001B[49m\u001B[43m*\u001B[49m\u001B[43margs\u001B[49m\u001B[43m,\u001B[49m\u001B[43m \u001B[49m\u001B[43m*\u001B[49m\u001B[43m*\u001B[49m\u001B[43mkwargs\u001B[49m\u001B[43m)\u001B[49m\n\u001B[32m    217\u001B[39m \u001B[38;5;28;01mexcept\u001B[39;00m InvalidParameterError \u001B[38;5;28;01mas\u001B[39;00m e:\n\u001B[32m    218\u001B[39m     \u001B[38;5;66;03m# When the function is just a wrapper around an estimator, we allow\u001B[39;00m\n\u001B[32m    219\u001B[39m     \u001B[38;5;66;03m# the function to delegate validation to the estimator, but we replace\u001B[39;00m\n\u001B[32m    220\u001B[39m     \u001B[38;5;66;03m# the name of the estimator by the name of the function in the error\u001B[39;00m\n\u001B[32m    221\u001B[39m     \u001B[38;5;66;03m# message to avoid confusion.\u001B[39;00m\n\u001B[32m    222\u001B[39m     msg = re.sub(\n\u001B[32m    223\u001B[39m         \u001B[33mr\u001B[39m\u001B[33m\"\u001B[39m\u001B[33mparameter of \u001B[39m\u001B[33m\\\u001B[39m\u001B[33mw+ must be\u001B[39m\u001B[33m\"\u001B[39m,\n\u001B[32m    224\u001B[39m         \u001B[33mf\u001B[39m\u001B[33m\"\u001B[39m\u001B[33mparameter of \u001B[39m\u001B[38;5;132;01m{\u001B[39;00mfunc.\u001B[34m__qualname__\u001B[39m\u001B[38;5;132;01m}\u001B[39;00m\u001B[33m must be\u001B[39m\u001B[33m\"\u001B[39m,\n\u001B[32m    225\u001B[39m         \u001B[38;5;28mstr\u001B[39m(e),\n\u001B[32m    226\u001B[39m     )\n",
      "\u001B[36mFile \u001B[39m\u001B[32m~\\miniconda3\\Lib\\site-packages\\sklearn\\model_selection\\_validation.py:347\u001B[39m, in \u001B[36mcross_validate\u001B[39m\u001B[34m(estimator, X, y, groups, scoring, cv, n_jobs, verbose, params, pre_dispatch, return_train_score, return_estimator, return_indices, error_score)\u001B[39m\n\u001B[32m    345\u001B[39m X, y = indexable(X, y)\n\u001B[32m    346\u001B[39m params = {} \u001B[38;5;28;01mif\u001B[39;00m params \u001B[38;5;129;01mis\u001B[39;00m \u001B[38;5;28;01mNone\u001B[39;00m \u001B[38;5;28;01melse\u001B[39;00m params\n\u001B[32m--> \u001B[39m\u001B[32m347\u001B[39m cv = \u001B[43mcheck_cv\u001B[49m\u001B[43m(\u001B[49m\u001B[43mcv\u001B[49m\u001B[43m,\u001B[49m\u001B[43m \u001B[49m\u001B[43my\u001B[49m\u001B[43m,\u001B[49m\u001B[43m \u001B[49m\u001B[43mclassifier\u001B[49m\u001B[43m=\u001B[49m\u001B[43mis_classifier\u001B[49m\u001B[43m(\u001B[49m\u001B[43mestimator\u001B[49m\u001B[43m)\u001B[49m\u001B[43m)\u001B[49m\n\u001B[32m    349\u001B[39m scorers = check_scoring(\n\u001B[32m    350\u001B[39m     estimator, scoring=scoring, raise_exc=(error_score == \u001B[33m\"\u001B[39m\u001B[33mraise\u001B[39m\u001B[33m\"\u001B[39m)\n\u001B[32m    351\u001B[39m )\n\u001B[32m    353\u001B[39m \u001B[38;5;28;01mif\u001B[39;00m _routing_enabled():\n\u001B[32m    354\u001B[39m     \u001B[38;5;66;03m# For estimators, a MetadataRouter is created in get_metadata_routing\u001B[39;00m\n\u001B[32m    355\u001B[39m     \u001B[38;5;66;03m# methods. For these router methods, we create the router to use\u001B[39;00m\n\u001B[32m    356\u001B[39m     \u001B[38;5;66;03m# `process_routing` on it.\u001B[39;00m\n",
      "\u001B[36mFile \u001B[39m\u001B[32m~\\miniconda3\\Lib\\site-packages\\sklearn\\model_selection\\_split.py:2716\u001B[39m, in \u001B[36mcheck_cv\u001B[39m\u001B[34m(cv, y, classifier)\u001B[39m\n\u001B[32m   2711\u001B[39m cv = \u001B[32m5\u001B[39m \u001B[38;5;28;01mif\u001B[39;00m cv \u001B[38;5;129;01mis\u001B[39;00m \u001B[38;5;28;01mNone\u001B[39;00m \u001B[38;5;28;01melse\u001B[39;00m cv\n\u001B[32m   2712\u001B[39m \u001B[38;5;28;01mif\u001B[39;00m \u001B[38;5;28misinstance\u001B[39m(cv, numbers.Integral):\n\u001B[32m   2713\u001B[39m     \u001B[38;5;28;01mif\u001B[39;00m (\n\u001B[32m   2714\u001B[39m         classifier\n\u001B[32m   2715\u001B[39m         \u001B[38;5;129;01mand\u001B[39;00m (y \u001B[38;5;129;01mis\u001B[39;00m \u001B[38;5;129;01mnot\u001B[39;00m \u001B[38;5;28;01mNone\u001B[39;00m)\n\u001B[32m-> \u001B[39m\u001B[32m2716\u001B[39m         \u001B[38;5;129;01mand\u001B[39;00m (\u001B[43mtype_of_target\u001B[49m\u001B[43m(\u001B[49m\u001B[43my\u001B[49m\u001B[43m,\u001B[49m\u001B[43m \u001B[49m\u001B[43minput_name\u001B[49m\u001B[43m=\u001B[49m\u001B[33;43m\"\u001B[39;49m\u001B[33;43my\u001B[39;49m\u001B[33;43m\"\u001B[39;49m\u001B[43m)\u001B[49m \u001B[38;5;129;01min\u001B[39;00m (\u001B[33m\"\u001B[39m\u001B[33mbinary\u001B[39m\u001B[33m\"\u001B[39m, \u001B[33m\"\u001B[39m\u001B[33mmulticlass\u001B[39m\u001B[33m\"\u001B[39m))\n\u001B[32m   2717\u001B[39m     ):\n\u001B[32m   2718\u001B[39m         \u001B[38;5;28;01mreturn\u001B[39;00m StratifiedKFold(cv)\n\u001B[32m   2719\u001B[39m     \u001B[38;5;28;01melse\u001B[39;00m:\n",
      "\u001B[36mFile \u001B[39m\u001B[32m~\\miniconda3\\Lib\\site-packages\\sklearn\\utils\\multiclass.py:423\u001B[39m, in \u001B[36mtype_of_target\u001B[39m\u001B[34m(y, input_name, raise_unknown)\u001B[39m\n\u001B[32m    421\u001B[39m \u001B[38;5;28;01mif\u001B[39;00m issparse(first_row_or_val):\n\u001B[32m    422\u001B[39m     first_row_or_val = first_row_or_val.data\n\u001B[32m--> \u001B[39m\u001B[32m423\u001B[39m \u001B[38;5;28;01mif\u001B[39;00m \u001B[43mcached_unique\u001B[49m\u001B[43m(\u001B[49m\u001B[43my\u001B[49m\u001B[43m)\u001B[49m.shape[\u001B[32m0\u001B[39m] > \u001B[32m2\u001B[39m \u001B[38;5;129;01mor\u001B[39;00m (y.ndim == \u001B[32m2\u001B[39m \u001B[38;5;129;01mand\u001B[39;00m \u001B[38;5;28mlen\u001B[39m(first_row_or_val) > \u001B[32m1\u001B[39m):\n\u001B[32m    424\u001B[39m     \u001B[38;5;66;03m# [1, 2, 3] or [[1., 2., 3]] or [[1, 2]]\u001B[39;00m\n\u001B[32m    425\u001B[39m     \u001B[38;5;28;01mreturn\u001B[39;00m \u001B[33m\"\u001B[39m\u001B[33mmulticlass\u001B[39m\u001B[33m\"\u001B[39m + suffix\n\u001B[32m    426\u001B[39m \u001B[38;5;28;01melse\u001B[39;00m:\n",
      "\u001B[36mFile \u001B[39m\u001B[32m~\\miniconda3\\Lib\\site-packages\\sklearn\\utils\\_unique.py:105\u001B[39m, in \u001B[36mcached_unique\u001B[39m\u001B[34m(xp, *ys)\u001B[39m\n\u001B[32m     81\u001B[39m \u001B[38;5;28;01mdef\u001B[39;00m\u001B[38;5;250m \u001B[39m\u001B[34mcached_unique\u001B[39m(*ys, xp=\u001B[38;5;28;01mNone\u001B[39;00m):\n\u001B[32m     82\u001B[39m \u001B[38;5;250m    \u001B[39m\u001B[33;03m\"\"\"Return the unique values of ys.\u001B[39;00m\n\u001B[32m     83\u001B[39m \n\u001B[32m     84\u001B[39m \u001B[33;03m    Use the cached values from dtype.metadata if present.\u001B[39;00m\n\u001B[32m   (...)\u001B[39m\u001B[32m    103\u001B[39m \u001B[33;03m        Unique values of ys.\u001B[39;00m\n\u001B[32m    104\u001B[39m \u001B[33;03m    \"\"\"\u001B[39;00m\n\u001B[32m--> \u001B[39m\u001B[32m105\u001B[39m     res = \u001B[38;5;28;43mtuple\u001B[39;49m\u001B[43m(\u001B[49m\u001B[43m_cached_unique\u001B[49m\u001B[43m(\u001B[49m\u001B[43my\u001B[49m\u001B[43m,\u001B[49m\u001B[43m \u001B[49m\u001B[43mxp\u001B[49m\u001B[43m=\u001B[49m\u001B[43mxp\u001B[49m\u001B[43m)\u001B[49m\u001B[43m \u001B[49m\u001B[38;5;28;43;01mfor\u001B[39;49;00m\u001B[43m \u001B[49m\u001B[43my\u001B[49m\u001B[43m \u001B[49m\u001B[38;5;129;43;01min\u001B[39;49;00m\u001B[43m \u001B[49m\u001B[43mys\u001B[49m\u001B[43m)\u001B[49m\n\u001B[32m    106\u001B[39m     \u001B[38;5;28;01mif\u001B[39;00m \u001B[38;5;28mlen\u001B[39m(res) == \u001B[32m1\u001B[39m:\n\u001B[32m    107\u001B[39m         \u001B[38;5;28;01mreturn\u001B[39;00m res[\u001B[32m0\u001B[39m]\n",
      "\u001B[36mFile \u001B[39m\u001B[32m~\\miniconda3\\Lib\\site-packages\\sklearn\\utils\\_unique.py:105\u001B[39m, in \u001B[36m<genexpr>\u001B[39m\u001B[34m(.0)\u001B[39m\n\u001B[32m     81\u001B[39m \u001B[38;5;28;01mdef\u001B[39;00m\u001B[38;5;250m \u001B[39m\u001B[34mcached_unique\u001B[39m(*ys, xp=\u001B[38;5;28;01mNone\u001B[39;00m):\n\u001B[32m     82\u001B[39m \u001B[38;5;250m    \u001B[39m\u001B[33;03m\"\"\"Return the unique values of ys.\u001B[39;00m\n\u001B[32m     83\u001B[39m \n\u001B[32m     84\u001B[39m \u001B[33;03m    Use the cached values from dtype.metadata if present.\u001B[39;00m\n\u001B[32m   (...)\u001B[39m\u001B[32m    103\u001B[39m \u001B[33;03m        Unique values of ys.\u001B[39;00m\n\u001B[32m    104\u001B[39m \u001B[33;03m    \"\"\"\u001B[39;00m\n\u001B[32m--> \u001B[39m\u001B[32m105\u001B[39m     res = \u001B[38;5;28mtuple\u001B[39m(\u001B[43m_cached_unique\u001B[49m\u001B[43m(\u001B[49m\u001B[43my\u001B[49m\u001B[43m,\u001B[49m\u001B[43m \u001B[49m\u001B[43mxp\u001B[49m\u001B[43m=\u001B[49m\u001B[43mxp\u001B[49m\u001B[43m)\u001B[49m \u001B[38;5;28;01mfor\u001B[39;00m y \u001B[38;5;129;01min\u001B[39;00m ys)\n\u001B[32m    106\u001B[39m     \u001B[38;5;28;01mif\u001B[39;00m \u001B[38;5;28mlen\u001B[39m(res) == \u001B[32m1\u001B[39m:\n\u001B[32m    107\u001B[39m         \u001B[38;5;28;01mreturn\u001B[39;00m res[\u001B[32m0\u001B[39m]\n",
      "\u001B[36mFile \u001B[39m\u001B[32m~\\miniconda3\\Lib\\site-packages\\sklearn\\utils\\_unique.py:78\u001B[39m, in \u001B[36m_cached_unique\u001B[39m\u001B[34m(y, xp)\u001B[39m\n\u001B[32m     76\u001B[39m     \u001B[38;5;28;01mpass\u001B[39;00m\n\u001B[32m     77\u001B[39m xp, _ = get_namespace(y, xp=xp)\n\u001B[32m---> \u001B[39m\u001B[32m78\u001B[39m \u001B[38;5;28;01mreturn\u001B[39;00m \u001B[43mxp\u001B[49m\u001B[43m.\u001B[49m\u001B[43munique_values\u001B[49m\u001B[43m(\u001B[49m\u001B[43my\u001B[49m\u001B[43m)\u001B[49m\n",
      "\u001B[36mFile \u001B[39m\u001B[32m~\\miniconda3\\Lib\\site-packages\\sklearn\\utils\\_array_api.py:416\u001B[39m, in \u001B[36m_NumPyAPIWrapper.unique_values\u001B[39m\u001B[34m(self, x)\u001B[39m\n\u001B[32m    415\u001B[39m \u001B[38;5;28;01mdef\u001B[39;00m\u001B[38;5;250m \u001B[39m\u001B[34munique_values\u001B[39m(\u001B[38;5;28mself\u001B[39m, x):\n\u001B[32m--> \u001B[39m\u001B[32m416\u001B[39m     \u001B[38;5;28;01mreturn\u001B[39;00m \u001B[43mnumpy\u001B[49m\u001B[43m.\u001B[49m\u001B[43munique\u001B[49m\u001B[43m(\u001B[49m\u001B[43mx\u001B[49m\u001B[43m)\u001B[49m\n",
      "\u001B[36mFile \u001B[39m\u001B[32m~\\miniconda3\\Lib\\site-packages\\numpy\\lib\\_arraysetops_impl.py:286\u001B[39m, in \u001B[36munique\u001B[39m\u001B[34m(ar, return_index, return_inverse, return_counts, axis, equal_nan)\u001B[39m\n\u001B[32m    284\u001B[39m ar = np.asanyarray(ar)\n\u001B[32m    285\u001B[39m \u001B[38;5;28;01mif\u001B[39;00m axis \u001B[38;5;129;01mis\u001B[39;00m \u001B[38;5;28;01mNone\u001B[39;00m:\n\u001B[32m--> \u001B[39m\u001B[32m286\u001B[39m     ret = \u001B[43m_unique1d\u001B[49m\u001B[43m(\u001B[49m\u001B[43mar\u001B[49m\u001B[43m,\u001B[49m\u001B[43m \u001B[49m\u001B[43mreturn_index\u001B[49m\u001B[43m,\u001B[49m\u001B[43m \u001B[49m\u001B[43mreturn_inverse\u001B[49m\u001B[43m,\u001B[49m\u001B[43m \u001B[49m\u001B[43mreturn_counts\u001B[49m\u001B[43m,\u001B[49m\n\u001B[32m    287\u001B[39m \u001B[43m                    \u001B[49m\u001B[43mequal_nan\u001B[49m\u001B[43m=\u001B[49m\u001B[43mequal_nan\u001B[49m\u001B[43m,\u001B[49m\u001B[43m \u001B[49m\u001B[43minverse_shape\u001B[49m\u001B[43m=\u001B[49m\u001B[43mar\u001B[49m\u001B[43m.\u001B[49m\u001B[43mshape\u001B[49m\u001B[43m,\u001B[49m\u001B[43m \u001B[49m\u001B[43maxis\u001B[49m\u001B[43m=\u001B[49m\u001B[38;5;28;43;01mNone\u001B[39;49;00m\u001B[43m)\u001B[49m\n\u001B[32m    288\u001B[39m     \u001B[38;5;28;01mreturn\u001B[39;00m _unpack_tuple(ret)\n\u001B[32m    290\u001B[39m \u001B[38;5;66;03m# axis was specified and not None\u001B[39;00m\n",
      "\u001B[36mFile \u001B[39m\u001B[32m~\\miniconda3\\Lib\\site-packages\\numpy\\lib\\_arraysetops_impl.py:353\u001B[39m, in \u001B[36m_unique1d\u001B[39m\u001B[34m(ar, return_index, return_inverse, return_counts, equal_nan, inverse_shape, axis)\u001B[39m\n\u001B[32m    351\u001B[39m     aux = ar[perm]\n\u001B[32m    352\u001B[39m \u001B[38;5;28;01melse\u001B[39;00m:\n\u001B[32m--> \u001B[39m\u001B[32m353\u001B[39m     \u001B[43mar\u001B[49m\u001B[43m.\u001B[49m\u001B[43msort\u001B[49m\u001B[43m(\u001B[49m\u001B[43m)\u001B[49m\n\u001B[32m    354\u001B[39m     aux = ar\n\u001B[32m    355\u001B[39m mask = np.empty(aux.shape, dtype=np.bool)\n",
      "\u001B[31mTypeError\u001B[39m: '<' not supported between instances of 'float' and 'str'"
     ]
    }
   ],
   "execution_count": 6
  },
  {
   "metadata": {
    "ExecuteTime": {
     "end_time": "2025-04-11T08:31:36.250247Z",
     "start_time": "2025-04-11T08:31:36.166457Z"
    }
   },
   "cell_type": "code",
   "source": [
    "# Plot model performance\n",
    "plt.figure(figsize=(10,6))\n",
    "sns.barplot(x='Mean Accuracy', y='Model', data=results_df, xerr=results_df['Std'])\n",
    "plt.title(\"Model Comparison (Cross-Validation Accuracy)\")\n",
    "plt.xlim(0, 1)\n",
    "save_fig(\"model_comparison\")\n",
    "plt.show()"
   ],
   "id": "4cccb2cf5457232",
   "outputs": [
    {
     "ename": "NameError",
     "evalue": "name 'results_df' is not defined",
     "output_type": "error",
     "traceback": [
      "\u001B[31m---------------------------------------------------------------------------\u001B[39m",
      "\u001B[31mNameError\u001B[39m                                 Traceback (most recent call last)",
      "\u001B[36mCell\u001B[39m\u001B[36m \u001B[39m\u001B[32mIn[7]\u001B[39m\u001B[32m, line 3\u001B[39m\n\u001B[32m      1\u001B[39m \u001B[38;5;66;03m# Plot model performance\u001B[39;00m\n\u001B[32m      2\u001B[39m plt.figure(figsize=(\u001B[32m10\u001B[39m,\u001B[32m6\u001B[39m))\n\u001B[32m----> \u001B[39m\u001B[32m3\u001B[39m sns.barplot(x=\u001B[33m'\u001B[39m\u001B[33mMean Accuracy\u001B[39m\u001B[33m'\u001B[39m, y=\u001B[33m'\u001B[39m\u001B[33mModel\u001B[39m\u001B[33m'\u001B[39m, data=\u001B[43mresults_df\u001B[49m, xerr=results_df[\u001B[33m'\u001B[39m\u001B[33mStd\u001B[39m\u001B[33m'\u001B[39m])\n\u001B[32m      4\u001B[39m plt.title(\u001B[33m\"\u001B[39m\u001B[33mModel Comparison (Cross-Validation Accuracy)\u001B[39m\u001B[33m\"\u001B[39m)\n\u001B[32m      5\u001B[39m plt.xlim(\u001B[32m0\u001B[39m, \u001B[32m1\u001B[39m)\n",
      "\u001B[31mNameError\u001B[39m: name 'results_df' is not defined"
     ]
    },
    {
     "data": {
      "text/plain": [
       "<Figure size 1000x600 with 0 Axes>"
      ]
     },
     "metadata": {},
     "output_type": "display_data"
    }
   ],
   "execution_count": 7
  },
  {
   "metadata": {
    "ExecuteTime": {
     "end_time": "2025-04-11T08:31:40.776348Z",
     "start_time": "2025-04-11T08:31:40.055547Z"
    }
   },
   "cell_type": "code",
   "source": [
    "from sklearn.model_selection import GridSearchCV\n",
    "\n",
    "# Best model appears to be Random Forest\n",
    "rf_pipeline = Pipeline(steps=[('preprocessor', preprocessor),\n",
    "                             ('classifier', RandomForestClassifier(random_state=42))])\n",
    "\n",
    "# Define parameter grid\n",
    "param_grid = {\n",
    "    'classifier__n_estimators': [100, 200, 300],\n",
    "    'classifier__max_depth': [None, 10, 20, 30],\n",
    "    'classifier__min_samples_split': [2, 5, 10]\n",
    "}\n",
    "\n",
    "# Perform grid search\n",
    "grid_search = GridSearchCV(rf_pipeline, param_grid, cv=5, n_jobs=-1)\n",
    "grid_search.fit(X_train, y_train)\n",
    "\n",
    "print(\"Best parameters:\", grid_search.best_params_)\n",
    "print(\"Best cross-validation score: {:.3f}\".format(grid_search.best_score_))"
   ],
   "id": "aff5b938409f4280",
   "outputs": [
    {
     "ename": "TypeError",
     "evalue": "'<' not supported between instances of 'float' and 'str'",
     "output_type": "error",
     "traceback": [
      "\u001B[31m---------------------------------------------------------------------------\u001B[39m",
      "\u001B[31mTypeError\u001B[39m                                 Traceback (most recent call last)",
      "\u001B[36mCell\u001B[39m\u001B[36m \u001B[39m\u001B[32mIn[8]\u001B[39m\u001B[32m, line 16\u001B[39m\n\u001B[32m     14\u001B[39m \u001B[38;5;66;03m# Perform grid search\u001B[39;00m\n\u001B[32m     15\u001B[39m grid_search = GridSearchCV(rf_pipeline, param_grid, cv=\u001B[32m5\u001B[39m, n_jobs=-\u001B[32m1\u001B[39m)\n\u001B[32m---> \u001B[39m\u001B[32m16\u001B[39m \u001B[43mgrid_search\u001B[49m\u001B[43m.\u001B[49m\u001B[43mfit\u001B[49m\u001B[43m(\u001B[49m\u001B[43mX_train\u001B[49m\u001B[43m,\u001B[49m\u001B[43m \u001B[49m\u001B[43my_train\u001B[49m\u001B[43m)\u001B[49m\n\u001B[32m     18\u001B[39m \u001B[38;5;28mprint\u001B[39m(\u001B[33m\"\u001B[39m\u001B[33mBest parameters:\u001B[39m\u001B[33m\"\u001B[39m, grid_search.best_params_)\n\u001B[32m     19\u001B[39m \u001B[38;5;28mprint\u001B[39m(\u001B[33m\"\u001B[39m\u001B[33mBest cross-validation score: \u001B[39m\u001B[38;5;132;01m{:.3f}\u001B[39;00m\u001B[33m\"\u001B[39m.format(grid_search.best_score_))\n",
      "\u001B[36mFile \u001B[39m\u001B[32m~\\miniconda3\\Lib\\site-packages\\sklearn\\base.py:1389\u001B[39m, in \u001B[36m_fit_context.<locals>.decorator.<locals>.wrapper\u001B[39m\u001B[34m(estimator, *args, **kwargs)\u001B[39m\n\u001B[32m   1382\u001B[39m     estimator._validate_params()\n\u001B[32m   1384\u001B[39m \u001B[38;5;28;01mwith\u001B[39;00m config_context(\n\u001B[32m   1385\u001B[39m     skip_parameter_validation=(\n\u001B[32m   1386\u001B[39m         prefer_skip_nested_validation \u001B[38;5;129;01mor\u001B[39;00m global_skip_validation\n\u001B[32m   1387\u001B[39m     )\n\u001B[32m   1388\u001B[39m ):\n\u001B[32m-> \u001B[39m\u001B[32m1389\u001B[39m     \u001B[38;5;28;01mreturn\u001B[39;00m \u001B[43mfit_method\u001B[49m\u001B[43m(\u001B[49m\u001B[43mestimator\u001B[49m\u001B[43m,\u001B[49m\u001B[43m \u001B[49m\u001B[43m*\u001B[49m\u001B[43margs\u001B[49m\u001B[43m,\u001B[49m\u001B[43m \u001B[49m\u001B[43m*\u001B[49m\u001B[43m*\u001B[49m\u001B[43mkwargs\u001B[49m\u001B[43m)\u001B[49m\n",
      "\u001B[36mFile \u001B[39m\u001B[32m~\\miniconda3\\Lib\\site-packages\\sklearn\\model_selection\\_search.py:933\u001B[39m, in \u001B[36mBaseSearchCV.fit\u001B[39m\u001B[34m(self, X, y, **params)\u001B[39m\n\u001B[32m    929\u001B[39m params = _check_method_params(X, params=params)\n\u001B[32m    931\u001B[39m routed_params = \u001B[38;5;28mself\u001B[39m._get_routed_params_for_fit(params)\n\u001B[32m--> \u001B[39m\u001B[32m933\u001B[39m cv_orig = \u001B[43mcheck_cv\u001B[49m\u001B[43m(\u001B[49m\u001B[38;5;28;43mself\u001B[39;49m\u001B[43m.\u001B[49m\u001B[43mcv\u001B[49m\u001B[43m,\u001B[49m\u001B[43m \u001B[49m\u001B[43my\u001B[49m\u001B[43m,\u001B[49m\u001B[43m \u001B[49m\u001B[43mclassifier\u001B[49m\u001B[43m=\u001B[49m\u001B[43mis_classifier\u001B[49m\u001B[43m(\u001B[49m\u001B[43mestimator\u001B[49m\u001B[43m)\u001B[49m\u001B[43m)\u001B[49m\n\u001B[32m    934\u001B[39m n_splits = cv_orig.get_n_splits(X, y, **routed_params.splitter.split)\n\u001B[32m    936\u001B[39m base_estimator = clone(\u001B[38;5;28mself\u001B[39m.estimator)\n",
      "\u001B[36mFile \u001B[39m\u001B[32m~\\miniconda3\\Lib\\site-packages\\sklearn\\model_selection\\_split.py:2716\u001B[39m, in \u001B[36mcheck_cv\u001B[39m\u001B[34m(cv, y, classifier)\u001B[39m\n\u001B[32m   2711\u001B[39m cv = \u001B[32m5\u001B[39m \u001B[38;5;28;01mif\u001B[39;00m cv \u001B[38;5;129;01mis\u001B[39;00m \u001B[38;5;28;01mNone\u001B[39;00m \u001B[38;5;28;01melse\u001B[39;00m cv\n\u001B[32m   2712\u001B[39m \u001B[38;5;28;01mif\u001B[39;00m \u001B[38;5;28misinstance\u001B[39m(cv, numbers.Integral):\n\u001B[32m   2713\u001B[39m     \u001B[38;5;28;01mif\u001B[39;00m (\n\u001B[32m   2714\u001B[39m         classifier\n\u001B[32m   2715\u001B[39m         \u001B[38;5;129;01mand\u001B[39;00m (y \u001B[38;5;129;01mis\u001B[39;00m \u001B[38;5;129;01mnot\u001B[39;00m \u001B[38;5;28;01mNone\u001B[39;00m)\n\u001B[32m-> \u001B[39m\u001B[32m2716\u001B[39m         \u001B[38;5;129;01mand\u001B[39;00m (\u001B[43mtype_of_target\u001B[49m\u001B[43m(\u001B[49m\u001B[43my\u001B[49m\u001B[43m,\u001B[49m\u001B[43m \u001B[49m\u001B[43minput_name\u001B[49m\u001B[43m=\u001B[49m\u001B[33;43m\"\u001B[39;49m\u001B[33;43my\u001B[39;49m\u001B[33;43m\"\u001B[39;49m\u001B[43m)\u001B[49m \u001B[38;5;129;01min\u001B[39;00m (\u001B[33m\"\u001B[39m\u001B[33mbinary\u001B[39m\u001B[33m\"\u001B[39m, \u001B[33m\"\u001B[39m\u001B[33mmulticlass\u001B[39m\u001B[33m\"\u001B[39m))\n\u001B[32m   2717\u001B[39m     ):\n\u001B[32m   2718\u001B[39m         \u001B[38;5;28;01mreturn\u001B[39;00m StratifiedKFold(cv)\n\u001B[32m   2719\u001B[39m     \u001B[38;5;28;01melse\u001B[39;00m:\n",
      "\u001B[36mFile \u001B[39m\u001B[32m~\\miniconda3\\Lib\\site-packages\\sklearn\\utils\\multiclass.py:423\u001B[39m, in \u001B[36mtype_of_target\u001B[39m\u001B[34m(y, input_name, raise_unknown)\u001B[39m\n\u001B[32m    421\u001B[39m \u001B[38;5;28;01mif\u001B[39;00m issparse(first_row_or_val):\n\u001B[32m    422\u001B[39m     first_row_or_val = first_row_or_val.data\n\u001B[32m--> \u001B[39m\u001B[32m423\u001B[39m \u001B[38;5;28;01mif\u001B[39;00m \u001B[43mcached_unique\u001B[49m\u001B[43m(\u001B[49m\u001B[43my\u001B[49m\u001B[43m)\u001B[49m.shape[\u001B[32m0\u001B[39m] > \u001B[32m2\u001B[39m \u001B[38;5;129;01mor\u001B[39;00m (y.ndim == \u001B[32m2\u001B[39m \u001B[38;5;129;01mand\u001B[39;00m \u001B[38;5;28mlen\u001B[39m(first_row_or_val) > \u001B[32m1\u001B[39m):\n\u001B[32m    424\u001B[39m     \u001B[38;5;66;03m# [1, 2, 3] or [[1., 2., 3]] or [[1, 2]]\u001B[39;00m\n\u001B[32m    425\u001B[39m     \u001B[38;5;28;01mreturn\u001B[39;00m \u001B[33m\"\u001B[39m\u001B[33mmulticlass\u001B[39m\u001B[33m\"\u001B[39m + suffix\n\u001B[32m    426\u001B[39m \u001B[38;5;28;01melse\u001B[39;00m:\n",
      "\u001B[36mFile \u001B[39m\u001B[32m~\\miniconda3\\Lib\\site-packages\\sklearn\\utils\\_unique.py:105\u001B[39m, in \u001B[36mcached_unique\u001B[39m\u001B[34m(xp, *ys)\u001B[39m\n\u001B[32m     81\u001B[39m \u001B[38;5;28;01mdef\u001B[39;00m\u001B[38;5;250m \u001B[39m\u001B[34mcached_unique\u001B[39m(*ys, xp=\u001B[38;5;28;01mNone\u001B[39;00m):\n\u001B[32m     82\u001B[39m \u001B[38;5;250m    \u001B[39m\u001B[33;03m\"\"\"Return the unique values of ys.\u001B[39;00m\n\u001B[32m     83\u001B[39m \n\u001B[32m     84\u001B[39m \u001B[33;03m    Use the cached values from dtype.metadata if present.\u001B[39;00m\n\u001B[32m   (...)\u001B[39m\u001B[32m    103\u001B[39m \u001B[33;03m        Unique values of ys.\u001B[39;00m\n\u001B[32m    104\u001B[39m \u001B[33;03m    \"\"\"\u001B[39;00m\n\u001B[32m--> \u001B[39m\u001B[32m105\u001B[39m     res = \u001B[38;5;28;43mtuple\u001B[39;49m\u001B[43m(\u001B[49m\u001B[43m_cached_unique\u001B[49m\u001B[43m(\u001B[49m\u001B[43my\u001B[49m\u001B[43m,\u001B[49m\u001B[43m \u001B[49m\u001B[43mxp\u001B[49m\u001B[43m=\u001B[49m\u001B[43mxp\u001B[49m\u001B[43m)\u001B[49m\u001B[43m \u001B[49m\u001B[38;5;28;43;01mfor\u001B[39;49;00m\u001B[43m \u001B[49m\u001B[43my\u001B[49m\u001B[43m \u001B[49m\u001B[38;5;129;43;01min\u001B[39;49;00m\u001B[43m \u001B[49m\u001B[43mys\u001B[49m\u001B[43m)\u001B[49m\n\u001B[32m    106\u001B[39m     \u001B[38;5;28;01mif\u001B[39;00m \u001B[38;5;28mlen\u001B[39m(res) == \u001B[32m1\u001B[39m:\n\u001B[32m    107\u001B[39m         \u001B[38;5;28;01mreturn\u001B[39;00m res[\u001B[32m0\u001B[39m]\n",
      "\u001B[36mFile \u001B[39m\u001B[32m~\\miniconda3\\Lib\\site-packages\\sklearn\\utils\\_unique.py:105\u001B[39m, in \u001B[36m<genexpr>\u001B[39m\u001B[34m(.0)\u001B[39m\n\u001B[32m     81\u001B[39m \u001B[38;5;28;01mdef\u001B[39;00m\u001B[38;5;250m \u001B[39m\u001B[34mcached_unique\u001B[39m(*ys, xp=\u001B[38;5;28;01mNone\u001B[39;00m):\n\u001B[32m     82\u001B[39m \u001B[38;5;250m    \u001B[39m\u001B[33;03m\"\"\"Return the unique values of ys.\u001B[39;00m\n\u001B[32m     83\u001B[39m \n\u001B[32m     84\u001B[39m \u001B[33;03m    Use the cached values from dtype.metadata if present.\u001B[39;00m\n\u001B[32m   (...)\u001B[39m\u001B[32m    103\u001B[39m \u001B[33;03m        Unique values of ys.\u001B[39;00m\n\u001B[32m    104\u001B[39m \u001B[33;03m    \"\"\"\u001B[39;00m\n\u001B[32m--> \u001B[39m\u001B[32m105\u001B[39m     res = \u001B[38;5;28mtuple\u001B[39m(\u001B[43m_cached_unique\u001B[49m\u001B[43m(\u001B[49m\u001B[43my\u001B[49m\u001B[43m,\u001B[49m\u001B[43m \u001B[49m\u001B[43mxp\u001B[49m\u001B[43m=\u001B[49m\u001B[43mxp\u001B[49m\u001B[43m)\u001B[49m \u001B[38;5;28;01mfor\u001B[39;00m y \u001B[38;5;129;01min\u001B[39;00m ys)\n\u001B[32m    106\u001B[39m     \u001B[38;5;28;01mif\u001B[39;00m \u001B[38;5;28mlen\u001B[39m(res) == \u001B[32m1\u001B[39m:\n\u001B[32m    107\u001B[39m         \u001B[38;5;28;01mreturn\u001B[39;00m res[\u001B[32m0\u001B[39m]\n",
      "\u001B[36mFile \u001B[39m\u001B[32m~\\miniconda3\\Lib\\site-packages\\sklearn\\utils\\_unique.py:78\u001B[39m, in \u001B[36m_cached_unique\u001B[39m\u001B[34m(y, xp)\u001B[39m\n\u001B[32m     76\u001B[39m     \u001B[38;5;28;01mpass\u001B[39;00m\n\u001B[32m     77\u001B[39m xp, _ = get_namespace(y, xp=xp)\n\u001B[32m---> \u001B[39m\u001B[32m78\u001B[39m \u001B[38;5;28;01mreturn\u001B[39;00m \u001B[43mxp\u001B[49m\u001B[43m.\u001B[49m\u001B[43munique_values\u001B[49m\u001B[43m(\u001B[49m\u001B[43my\u001B[49m\u001B[43m)\u001B[49m\n",
      "\u001B[36mFile \u001B[39m\u001B[32m~\\miniconda3\\Lib\\site-packages\\sklearn\\utils\\_array_api.py:416\u001B[39m, in \u001B[36m_NumPyAPIWrapper.unique_values\u001B[39m\u001B[34m(self, x)\u001B[39m\n\u001B[32m    415\u001B[39m \u001B[38;5;28;01mdef\u001B[39;00m\u001B[38;5;250m \u001B[39m\u001B[34munique_values\u001B[39m(\u001B[38;5;28mself\u001B[39m, x):\n\u001B[32m--> \u001B[39m\u001B[32m416\u001B[39m     \u001B[38;5;28;01mreturn\u001B[39;00m \u001B[43mnumpy\u001B[49m\u001B[43m.\u001B[49m\u001B[43munique\u001B[49m\u001B[43m(\u001B[49m\u001B[43mx\u001B[49m\u001B[43m)\u001B[49m\n",
      "\u001B[36mFile \u001B[39m\u001B[32m~\\miniconda3\\Lib\\site-packages\\numpy\\lib\\_arraysetops_impl.py:286\u001B[39m, in \u001B[36munique\u001B[39m\u001B[34m(ar, return_index, return_inverse, return_counts, axis, equal_nan)\u001B[39m\n\u001B[32m    284\u001B[39m ar = np.asanyarray(ar)\n\u001B[32m    285\u001B[39m \u001B[38;5;28;01mif\u001B[39;00m axis \u001B[38;5;129;01mis\u001B[39;00m \u001B[38;5;28;01mNone\u001B[39;00m:\n\u001B[32m--> \u001B[39m\u001B[32m286\u001B[39m     ret = \u001B[43m_unique1d\u001B[49m\u001B[43m(\u001B[49m\u001B[43mar\u001B[49m\u001B[43m,\u001B[49m\u001B[43m \u001B[49m\u001B[43mreturn_index\u001B[49m\u001B[43m,\u001B[49m\u001B[43m \u001B[49m\u001B[43mreturn_inverse\u001B[49m\u001B[43m,\u001B[49m\u001B[43m \u001B[49m\u001B[43mreturn_counts\u001B[49m\u001B[43m,\u001B[49m\n\u001B[32m    287\u001B[39m \u001B[43m                    \u001B[49m\u001B[43mequal_nan\u001B[49m\u001B[43m=\u001B[49m\u001B[43mequal_nan\u001B[49m\u001B[43m,\u001B[49m\u001B[43m \u001B[49m\u001B[43minverse_shape\u001B[49m\u001B[43m=\u001B[49m\u001B[43mar\u001B[49m\u001B[43m.\u001B[49m\u001B[43mshape\u001B[49m\u001B[43m,\u001B[49m\u001B[43m \u001B[49m\u001B[43maxis\u001B[49m\u001B[43m=\u001B[49m\u001B[38;5;28;43;01mNone\u001B[39;49;00m\u001B[43m)\u001B[49m\n\u001B[32m    288\u001B[39m     \u001B[38;5;28;01mreturn\u001B[39;00m _unpack_tuple(ret)\n\u001B[32m    290\u001B[39m \u001B[38;5;66;03m# axis was specified and not None\u001B[39;00m\n",
      "\u001B[36mFile \u001B[39m\u001B[32m~\\miniconda3\\Lib\\site-packages\\numpy\\lib\\_arraysetops_impl.py:353\u001B[39m, in \u001B[36m_unique1d\u001B[39m\u001B[34m(ar, return_index, return_inverse, return_counts, equal_nan, inverse_shape, axis)\u001B[39m\n\u001B[32m    351\u001B[39m     aux = ar[perm]\n\u001B[32m    352\u001B[39m \u001B[38;5;28;01melse\u001B[39;00m:\n\u001B[32m--> \u001B[39m\u001B[32m353\u001B[39m     \u001B[43mar\u001B[49m\u001B[43m.\u001B[49m\u001B[43msort\u001B[49m\u001B[43m(\u001B[49m\u001B[43m)\u001B[49m\n\u001B[32m    354\u001B[39m     aux = ar\n\u001B[32m    355\u001B[39m mask = np.empty(aux.shape, dtype=np.bool)\n",
      "\u001B[31mTypeError\u001B[39m: '<' not supported between instances of 'float' and 'str'"
     ]
    }
   ],
   "execution_count": 8
  },
  {
   "metadata": {},
   "cell_type": "code",
   "outputs": [],
   "execution_count": null,
   "source": [
    "from sklearn.metrics import classification_report, confusion_matrix\n",
    "\n",
    "# Get best model\n",
    "best_model = grid_search.best_estimator_\n",
    "\n",
    "# Predict on test set\n",
    "y_pred = best_model.predict(X_test)\n",
    "\n",
    "# Classification report\n",
    "print(\"Classification Report:\")\n",
    "print(classification_report(y_test, y_pred))\n",
    "\n",
    "# Confusion matrix\n",
    "cm = confusion_matrix(y_test, y_pred)\n",
    "plt.figure(figsize=(10,8))\n",
    "sns.heatmap(cm, annot=True, fmt='d', cmap='Blues',\n",
    "            xticklabels=le.classes_, yticklabels=le.classes_)\n",
    "plt.title(\"Confusion Matrix\")\n",
    "plt.ylabel('True House')\n",
    "plt.xlabel('Predicted House')\n",
    "save_fig(\"confusion_matrix\")\n",
    "plt.show()"
   ],
   "id": "eae884fca619b4e9"
  },
  {
   "metadata": {},
   "cell_type": "code",
   "outputs": [],
   "execution_count": null,
   "source": [
    "# Get feature names after preprocessing\n",
    "preprocessor.fit(X)\n",
    "feature_names = (numerical_cols.tolist() +\n",
    "                 list(preprocessor.named_transformers_['cat']\n",
    "                     .named_steps['onehot']\n",
    "                     .get_feature_names(categorical_cols)))\n",
    "\n",
    "# Get feature importances from the best model\n",
    "importances = best_model.named_steps['classifier'].feature_importances_\n",
    "\n",
    "# Create dataframe\n",
    "feature_importances = pd.DataFrame({'Feature': feature_names, 'Importance': importances})\n",
    "feature_importances = feature_importances.sort_values('Importance', ascending=False)\n",
    "\n",
    "# Plot top 10 features\n",
    "plt.figure(figsize=(10,6))\n",
    "sns.barplot(x='Importance', y='Feature', data=feature_importances.head(10))\n",
    "plt.title(\"Top 10 Most Important Features\")\n",
    "save_fig(\"feature_importance\")\n",
    "plt.show()"
   ],
   "id": "755ac3e3ba1732a"
  }
 ],
 "metadata": {
  "kernelspec": {
   "display_name": "Python 3",
   "language": "python",
   "name": "python3"
  },
  "language_info": {
   "codemirror_mode": {
    "name": "ipython",
    "version": 2
   },
   "file_extension": ".py",
   "mimetype": "text/x-python",
   "name": "python",
   "nbconvert_exporter": "python",
   "pygments_lexer": "ipython2",
   "version": "2.7.6"
  }
 },
 "nbformat": 4,
 "nbformat_minor": 5
}
